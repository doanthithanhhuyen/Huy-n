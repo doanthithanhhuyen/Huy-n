{
 "cells": [
  {
   "cell_type": "code",
   "execution_count": 3,
   "id": "cc33dc9c",
   "metadata": {},
   "outputs": [
    {
     "ename": "SyntaxError",
     "evalue": "unexpected EOF while parsing (Temp/ipykernel_2100/29357376.py, line 69)",
     "output_type": "error",
     "traceback": [
      "\u001b[1;36m  File \u001b[1;32m\"C:\\Users\\HUYEND~1.611\\AppData\\Local\\Temp/ipykernel_2100/29357376.py\"\u001b[1;36m, line \u001b[1;32m69\u001b[0m\n\u001b[1;33m    \u001b[0m\n\u001b[1;37m    ^\u001b[0m\n\u001b[1;31mSyntaxError\u001b[0m\u001b[1;31m:\u001b[0m unexpected EOF while parsing\n"
     ]
    }
   ],
   "source": [
    "students = {\"11190\": (\"Đoàn Huyền\", 9.00), \"11191\": (\"Thu Trang\", 7.40), \"11192\": (\"Việt Đức\", 3.7),\n",
    "           \"11193\": (\"Trần Hoa\",5.00), \"11194\": (\"Đức Quân\", 8.50)}\n",
    "\n",
    "#Nhập dữ liệu gồm: MSV, Họ và tên SV, điểm tổng kết\n",
    "#Xaay duwngj dictionary như mẫu từ dữ liệu nhập vào người dùng\n",
    "#yêu cầu:\n",
    "#1. Lọc những sv có điểm >=8\n",
    "#2. Xếp loại SV theo các tiêu trí:  \n",
    "##. Sắp xếp list SV theo họ tên\n",
    "\n",
    "    \n",
    "    \n",
    "def HocLuc(mark):\n",
    "    '''Hàm phân loại học lực theo điểm\n",
    "    0-5: Kém\n",
    "    5-6: TB\n",
    "    6-8: Khá\n",
    "    8-10: Giỏi\n",
    "    '''\n",
    "    if 0<=mark<5:\n",
    "        HocLuc = \"Yếu\"\n",
    "    elif 5<=mark<6:\n",
    "        HocLuc = \"TB\"\n",
    "    elif 6<=mark<8:\n",
    "        HocLuc = \"Khá\"\n",
    "    else:\n",
    "        HocLuc = \"Giỏi\"\n",
    "    if mark < 0 and mark > 10:\n",
    "        print(\"Nhập sai dữ liệu\")\n",
    "    return HocLuc\n",
    "\n",
    "\n",
    "#Nhập danh sách sinh viên\n",
    "DSSV = {}\n",
    "n = int(input('Nhập số sinh viên: '))\n",
    "for i in range(1, n+1):\n",
    "    MSV = input('Nhập MSV của SV {0}: '.format(i))\n",
    "    HoTen = input('Nhập tên của SV {0}: '.format(i))\n",
    "    Diem = input('Nhập điểm của SV {0}: '.format(i))\n",
    "    DSSV[MSV] = (HoTen, Diem)\n",
    "print(\"-------------------------------------\")\n",
    "print(\"Danh sách sinh viên = \",DSSV)\n",
    "\n",
    "print(\"-------------------------------------\")\n",
    "\n",
    "\n",
    "#Lọc những sinh viên có điểm >= 8\n",
    "SV_8 = []\n",
    "print(\"Danh sách sinh viên có điểm từ 8 trở lên\")\n",
    "print('\\tMSV\\t\\tHọ Và Tên\\t\\tĐiểm')\n",
    "for keys, values in DSSV.items():\n",
    "    if float(values[1]) >= 8:\n",
    "        SV_8.append(keys)\n",
    "        SV_8.append(values)\n",
    "        print('\\t{0}'.format(keys), end = '\\t\\t')\n",
    "        print(values[0], end = '\\t\\t')\n",
    "        print(values[1])\n",
    "\n",
    "\n",
    "print(\"-------------------------------------\")\n",
    "#Xếp loại sinh viên\n",
    "print('Xếp loại sinh viên theo điểm')\n",
    "print('\\tMSV\\t\\tHọ tên\\t\\tĐiểm\\t\\tHọc Lực')\n",
    "for keys, values in DSSV.items():\n",
    "    print('\\t{0}'.format(keys), end='\\t\\t')\n",
    "    print(values[0], end='\\t\\t')\n",
    "    print(values[1], end='\\t\\t')\n",
    "    print(HocLuc(float(values[1]))\n",
    "\n",
    "        \n"
   ]
  },
  {
   "cell_type": "code",
   "execution_count": null,
   "id": "2d48cfc1",
   "metadata": {},
   "outputs": [],
   "source": []
  }
 ],
 "metadata": {
  "kernelspec": {
   "display_name": "Python 3 (ipykernel)",
   "language": "python",
   "name": "python3"
  },
  "language_info": {
   "codemirror_mode": {
    "name": "ipython",
    "version": 3
   },
   "file_extension": ".py",
   "mimetype": "text/x-python",
   "name": "python",
   "nbconvert_exporter": "python",
   "pygments_lexer": "ipython3",
   "version": "3.9.7"
  }
 },
 "nbformat": 4,
 "nbformat_minor": 5
}
