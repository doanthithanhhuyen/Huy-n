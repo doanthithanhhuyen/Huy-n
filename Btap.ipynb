{
 "cells": [
  {
   "cell_type": "code",
   "execution_count": 3,
   "id": "f227a881",
   "metadata": {},
   "outputs": [
    {
     "ename": "SyntaxError",
     "evalue": "invalid syntax (Temp/ipykernel_2584/3958549454.py, line 13)",
     "output_type": "error",
     "traceback": [
      "\u001b[1;36m  File \u001b[1;32m\"C:\\Users\\DOANHU~1\\AppData\\Local\\Temp/ipykernel_2584/3958549454.py\"\u001b[1;36m, line \u001b[1;32m13\u001b[0m\n\u001b[1;33m    matrix.append(row)\u001b[0m\n\u001b[1;37m    ^\u001b[0m\n\u001b[1;31mSyntaxError\u001b[0m\u001b[1;31m:\u001b[0m invalid syntax\n"
     ]
    }
   ],
   "source": [
    "#BÀI TẬP\n",
    "#khởi tạo 1 tuples gồm các số nguyên. Tuples có dạng ma trận có m hàng và n cột.\n",
    "# m, n nhập vào từ bàn phím\n",
    "\n",
    "\n",
    "m = int(input(\"nhập số hàng\"))\n",
    "n = int(input(\"nhập số cột\"))\n",
    "matrix = []\n",
    "for i in range(m):\n",
    "    row = []\n",
    "    for j in range(n):\n",
    "        row.append(int(input(\"số thứ {0} của hàng {1}: \".format(i,j)))\n",
    "    matrix.append(row)               \n",
    "\n",
    "for i in matrix:   \n",
    "    print(i)"
   ]
  },
  {
   "cell_type": "code",
   "execution_count": null,
   "id": "535d9e55",
   "metadata": {},
   "outputs": [],
   "source": []
  }
 ],
 "metadata": {
  "kernelspec": {
   "display_name": "Python 3 (ipykernel)",
   "language": "python",
   "name": "python3"
  },
  "language_info": {
   "codemirror_mode": {
    "name": "ipython",
    "version": 3
   },
   "file_extension": ".py",
   "mimetype": "text/x-python",
   "name": "python",
   "nbconvert_exporter": "python",
   "pygments_lexer": "ipython3",
   "version": "3.9.7"
  }
 },
 "nbformat": 4,
 "nbformat_minor": 5
}
